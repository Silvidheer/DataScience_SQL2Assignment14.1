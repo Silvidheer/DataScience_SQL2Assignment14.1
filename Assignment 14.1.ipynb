{
 "cells": [
  {
   "cell_type": "code",
   "execution_count": 2,
   "metadata": {
    "collapsed": true
   },
   "outputs": [],
   "source": [
    "from io import StringIO\n",
    "import numpy as np\n",
    "import pandas as pd\n",
    "from pandas import DataFrame, Series\n",
    "import requests"
   ]
  },
  {
   "cell_type": "code",
   "execution_count": 3,
   "metadata": {
    "collapsed": true
   },
   "outputs": [],
   "source": [
    "# Read the dataset\n",
    "adult_df = pd.read_table('https://archive.ics.uci.edu/ml/machine-learning-databases/adult/adult.data', sep='\\s+', header=None)\n",
    "adult_df.columns = ['age','workclass','fnlwgt','education','education_num','marital_status','occupation','relationship','race',\n",
    "                    'sex', 'capital-gain','capital-loss','hours-per-week','native-country','class-probability']"
   ]
  },
  {
   "cell_type": "code",
   "execution_count": 4,
   "metadata": {},
   "outputs": [
    {
     "data": {
      "text/html": [
       "<div>\n",
       "<style>\n",
       "    .dataframe thead tr:only-child th {\n",
       "        text-align: right;\n",
       "    }\n",
       "\n",
       "    .dataframe thead th {\n",
       "        text-align: left;\n",
       "    }\n",
       "\n",
       "    .dataframe tbody tr th {\n",
       "        vertical-align: top;\n",
       "    }\n",
       "</style>\n",
       "<table border=\"1\" class=\"dataframe\">\n",
       "  <thead>\n",
       "    <tr style=\"text-align: right;\">\n",
       "      <th></th>\n",
       "      <th>age</th>\n",
       "      <th>workclass</th>\n",
       "      <th>fnlwgt</th>\n",
       "      <th>education</th>\n",
       "      <th>education_num</th>\n",
       "      <th>marital_status</th>\n",
       "      <th>occupation</th>\n",
       "      <th>relationship</th>\n",
       "      <th>race</th>\n",
       "      <th>sex</th>\n",
       "      <th>capital-gain</th>\n",
       "      <th>capital-loss</th>\n",
       "      <th>hours-per-week</th>\n",
       "      <th>native-country</th>\n",
       "      <th>class-probability</th>\n",
       "    </tr>\n",
       "  </thead>\n",
       "  <tbody>\n",
       "    <tr>\n",
       "      <th>0</th>\n",
       "      <td>39,</td>\n",
       "      <td>State-gov,</td>\n",
       "      <td>77516,</td>\n",
       "      <td>Bachelors,</td>\n",
       "      <td>13,</td>\n",
       "      <td>Never-married,</td>\n",
       "      <td>Adm-clerical,</td>\n",
       "      <td>Not-in-family,</td>\n",
       "      <td>White,</td>\n",
       "      <td>Male,</td>\n",
       "      <td>2174,</td>\n",
       "      <td>0,</td>\n",
       "      <td>40,</td>\n",
       "      <td>United-States,</td>\n",
       "      <td>&lt;=50K</td>\n",
       "    </tr>\n",
       "    <tr>\n",
       "      <th>1</th>\n",
       "      <td>50,</td>\n",
       "      <td>Self-emp-not-inc,</td>\n",
       "      <td>83311,</td>\n",
       "      <td>Bachelors,</td>\n",
       "      <td>13,</td>\n",
       "      <td>Married-civ-spouse,</td>\n",
       "      <td>Exec-managerial,</td>\n",
       "      <td>Husband,</td>\n",
       "      <td>White,</td>\n",
       "      <td>Male,</td>\n",
       "      <td>0,</td>\n",
       "      <td>0,</td>\n",
       "      <td>13,</td>\n",
       "      <td>United-States,</td>\n",
       "      <td>&lt;=50K</td>\n",
       "    </tr>\n",
       "    <tr>\n",
       "      <th>2</th>\n",
       "      <td>38,</td>\n",
       "      <td>Private,</td>\n",
       "      <td>215646,</td>\n",
       "      <td>HS-grad,</td>\n",
       "      <td>9,</td>\n",
       "      <td>Divorced,</td>\n",
       "      <td>Handlers-cleaners,</td>\n",
       "      <td>Not-in-family,</td>\n",
       "      <td>White,</td>\n",
       "      <td>Male,</td>\n",
       "      <td>0,</td>\n",
       "      <td>0,</td>\n",
       "      <td>40,</td>\n",
       "      <td>United-States,</td>\n",
       "      <td>&lt;=50K</td>\n",
       "    </tr>\n",
       "    <tr>\n",
       "      <th>3</th>\n",
       "      <td>53,</td>\n",
       "      <td>Private,</td>\n",
       "      <td>234721,</td>\n",
       "      <td>11th,</td>\n",
       "      <td>7,</td>\n",
       "      <td>Married-civ-spouse,</td>\n",
       "      <td>Handlers-cleaners,</td>\n",
       "      <td>Husband,</td>\n",
       "      <td>Black,</td>\n",
       "      <td>Male,</td>\n",
       "      <td>0,</td>\n",
       "      <td>0,</td>\n",
       "      <td>40,</td>\n",
       "      <td>United-States,</td>\n",
       "      <td>&lt;=50K</td>\n",
       "    </tr>\n",
       "    <tr>\n",
       "      <th>4</th>\n",
       "      <td>28,</td>\n",
       "      <td>Private,</td>\n",
       "      <td>338409,</td>\n",
       "      <td>Bachelors,</td>\n",
       "      <td>13,</td>\n",
       "      <td>Married-civ-spouse,</td>\n",
       "      <td>Prof-specialty,</td>\n",
       "      <td>Wife,</td>\n",
       "      <td>Black,</td>\n",
       "      <td>Female,</td>\n",
       "      <td>0,</td>\n",
       "      <td>0,</td>\n",
       "      <td>40,</td>\n",
       "      <td>Cuba,</td>\n",
       "      <td>&lt;=50K</td>\n",
       "    </tr>\n",
       "  </tbody>\n",
       "</table>\n",
       "</div>"
      ],
      "text/plain": [
       "   age          workclass   fnlwgt   education education_num  \\\n",
       "0  39,         State-gov,   77516,  Bachelors,           13,   \n",
       "1  50,  Self-emp-not-inc,   83311,  Bachelors,           13,   \n",
       "2  38,           Private,  215646,    HS-grad,            9,   \n",
       "3  53,           Private,  234721,       11th,            7,   \n",
       "4  28,           Private,  338409,  Bachelors,           13,   \n",
       "\n",
       "        marital_status          occupation    relationship    race      sex  \\\n",
       "0       Never-married,       Adm-clerical,  Not-in-family,  White,    Male,   \n",
       "1  Married-civ-spouse,    Exec-managerial,        Husband,  White,    Male,   \n",
       "2            Divorced,  Handlers-cleaners,  Not-in-family,  White,    Male,   \n",
       "3  Married-civ-spouse,  Handlers-cleaners,        Husband,  Black,    Male,   \n",
       "4  Married-civ-spouse,     Prof-specialty,           Wife,  Black,  Female,   \n",
       "\n",
       "  capital-gain capital-loss hours-per-week  native-country class-probability  \n",
       "0        2174,           0,            40,  United-States,             <=50K  \n",
       "1           0,           0,            13,  United-States,             <=50K  \n",
       "2           0,           0,            40,  United-States,             <=50K  \n",
       "3           0,           0,            40,  United-States,             <=50K  \n",
       "4           0,           0,            40,           Cuba,             <=50K  "
      ]
     },
     "execution_count": 4,
     "metadata": {},
     "output_type": "execute_result"
    }
   ],
   "source": [
    "adult_df.head()"
   ]
  },
  {
   "cell_type": "code",
   "execution_count": 5,
   "metadata": {
    "collapsed": true
   },
   "outputs": [],
   "source": [
    "from pandasql import sqldf"
   ]
  },
  {
   "cell_type": "code",
   "execution_count": 6,
   "metadata": {
    "collapsed": true
   },
   "outputs": [],
   "source": [
    "pysqldf = lambda q: sqldf(q, globals())"
   ]
  },
  {
   "cell_type": "code",
   "execution_count": 7,
   "metadata": {},
   "outputs": [
    {
     "data": {
      "text/plain": [
       "<function __main__.<lambda>>"
      ]
     },
     "execution_count": 7,
     "metadata": {},
     "output_type": "execute_result"
    }
   ],
   "source": [
    "pysqldf"
   ]
  },
  {
   "cell_type": "code",
   "execution_count": 8,
   "metadata": {
    "collapsed": true
   },
   "outputs": [],
   "source": [
    "import sqlalchemy"
   ]
  },
  {
   "cell_type": "code",
   "execution_count": 9,
   "metadata": {
    "collapsed": true
   },
   "outputs": [],
   "source": [
    "from sqlalchemy import create_engine"
   ]
  },
  {
   "cell_type": "code",
   "execution_count": 10,
   "metadata": {
    "collapsed": true
   },
   "outputs": [],
   "source": [
    "engine = create_engine('sqlite:///:memory:', echo=True)"
   ]
  },
  {
   "cell_type": "code",
   "execution_count": 11,
   "metadata": {
    "collapsed": true
   },
   "outputs": [],
   "source": [
    "from sqlalchemy.ext.declarative import declarative_base"
   ]
  },
  {
   "cell_type": "code",
   "execution_count": 12,
   "metadata": {
    "collapsed": true
   },
   "outputs": [],
   "source": [
    "Base = declarative_base()"
   ]
  },
  {
   "cell_type": "code",
   "execution_count": 13,
   "metadata": {
    "collapsed": true
   },
   "outputs": [],
   "source": [
    "from sqlalchemy import Column, Integer, String"
   ]
  },
  {
   "cell_type": "markdown",
   "metadata": {},
   "source": [
    "#### Create an sqlalchemy engine using a sample from the data set"
   ]
  },
  {
   "cell_type": "code",
   "execution_count": 14,
   "metadata": {
    "collapsed": true
   },
   "outputs": [],
   "source": [
    "class Adult(Base):\n",
    "...     __tablename__ = 'adult_df'\n",
    "...     __table_args__ = {'extend_existing': True} \n",
    "...\n",
    "...     id = Column(Integer, primary_key=True)\n",
    "...     age = Column(String)\n",
    "...     workclass = Column(String)\n",
    "...     fnlwgt = Column(String)\n",
    "...     education = Column(String)\n",
    "...     education_num = Column(String)\n",
    "...     marital_status = Column(String)\n",
    "...     occupation = Column(String)\n",
    "...     relationship = Column(String)\n",
    "...     race = Column(String)\n",
    "...     sex = Column(String)\n",
    "...     capital_gain = Column(String)\n",
    "...     capital_loss = Column(String)\n",
    "...     hours_per_week = Column(String)\n",
    "...     native_country = Column(String)\n",
    "...     classs_probability = Column(String)\n",
    "...\n",
    "...     def __repr__(self):\n",
    "...        return \"<User(age='%s', workclass='%s', fnlwgt='%s', education='%s', education_num='%s', marital_status='%s', occupation='%s', relationship='%s', race='%s', sex='%s', capital_gain='%s', capital_loss='%s', hours_per_week='%s', native_country='%s', classs_probability='%s')>\" % (\n",
    "...                             self.age, self.workclass, self.fnlwgt, self.education, self.education_num,\n",
    "...                             self.marital_status, self.occupation, self.relationship, self.race, self.sex,\n",
    "...                             self.capital_gain, self.capital_loss, self.hours_per_week, self.native_country,\n",
    "...                             self.classs_probability)"
   ]
  },
  {
   "cell_type": "code",
   "execution_count": 15,
   "metadata": {},
   "outputs": [
    {
     "data": {
      "text/plain": [
       "Table('adult_df', MetaData(bind=None), Column('id', Integer(), table=<adult_df>, primary_key=True, nullable=False), Column('age', String(), table=<adult_df>), Column('workclass', String(), table=<adult_df>), Column('fnlwgt', String(), table=<adult_df>), Column('education', String(), table=<adult_df>), Column('education_num', String(), table=<adult_df>), Column('marital_status', String(), table=<adult_df>), Column('occupation', String(), table=<adult_df>), Column('relationship', String(), table=<adult_df>), Column('race', String(), table=<adult_df>), Column('sex', String(), table=<adult_df>), Column('capital_gain', String(), table=<adult_df>), Column('capital_loss', String(), table=<adult_df>), Column('hours_per_week', String(), table=<adult_df>), Column('native_country', String(), table=<adult_df>), Column('classs_probability', String(), table=<adult_df>), schema=None)"
      ]
     },
     "execution_count": 15,
     "metadata": {},
     "output_type": "execute_result"
    }
   ],
   "source": [
    "Adult.__table__"
   ]
  },
  {
   "cell_type": "code",
   "execution_count": 16,
   "metadata": {},
   "outputs": [
    {
     "name": "stdout",
     "output_type": "stream",
     "text": [
      "2018-04-22 08:29:51,074 INFO sqlalchemy.engine.base.Engine SELECT CAST('test plain returns' AS VARCHAR(60)) AS anon_1\n",
      "2018-04-22 08:29:51,076 INFO sqlalchemy.engine.base.Engine ()\n",
      "2018-04-22 08:29:51,076 INFO sqlalchemy.engine.base.Engine SELECT CAST('test unicode returns' AS VARCHAR(60)) AS anon_1\n",
      "2018-04-22 08:29:51,087 INFO sqlalchemy.engine.base.Engine ()\n",
      "2018-04-22 08:29:51,087 INFO sqlalchemy.engine.base.Engine PRAGMA table_info(\"adult_df\")\n",
      "2018-04-22 08:29:51,087 INFO sqlalchemy.engine.base.Engine ()\n",
      "2018-04-22 08:29:51,100 INFO sqlalchemy.engine.base.Engine \n",
      "CREATE TABLE adult_df (\n",
      "\tid INTEGER NOT NULL, \n",
      "\tage VARCHAR, \n",
      "\tworkclass VARCHAR, \n",
      "\tfnlwgt VARCHAR, \n",
      "\teducation VARCHAR, \n",
      "\teducation_num VARCHAR, \n",
      "\tmarital_status VARCHAR, \n",
      "\toccupation VARCHAR, \n",
      "\trelationship VARCHAR, \n",
      "\trace VARCHAR, \n",
      "\tsex VARCHAR, \n",
      "\tcapital_gain VARCHAR, \n",
      "\tcapital_loss VARCHAR, \n",
      "\thours_per_week VARCHAR, \n",
      "\tnative_country VARCHAR, \n",
      "\tclasss_probability VARCHAR, \n",
      "\tPRIMARY KEY (id)\n",
      ")\n",
      "\n",
      "\n",
      "2018-04-22 08:29:51,100 INFO sqlalchemy.engine.base.Engine ()\n",
      "2018-04-22 08:29:51,100 INFO sqlalchemy.engine.base.Engine COMMIT\n"
     ]
    }
   ],
   "source": [
    "Base.metadata.create_all(engine)"
   ]
  },
  {
   "cell_type": "code",
   "execution_count": 17,
   "metadata": {},
   "outputs": [
    {
     "data": {
      "text/plain": [
       "<User(age='36', workclass='state-gov', fnlwgt='65643', education='Bachelors', education_num='13', marital_status='married', occupation='Prof-Speciality', relationship='Wife', race='White', sex='Female', capital_gain='0', capital_loss='0', hours_per_week='40', native_country='United-States', classs_probability='<=50K')>"
      ]
     },
     "execution_count": 17,
     "metadata": {},
     "output_type": "execute_result"
    }
   ],
   "source": [
    "ed_adult = Adult(age= 36, workclass= 'state-gov', fnlwgt = '65643', education = 'Bachelors', education_num = '13', marital_status = 'married',\n",
    "                    occupation = 'Prof-Speciality', relationship = 'Wife', race = 'White', sex =  'Female', capital_gain = '0', \n",
    "                 capital_loss = '0', hours_per_week = '40', native_country = 'United-States', classs_probability = '<=50K')\n",
    "ed_adult                 "
   ]
  },
  {
   "cell_type": "code",
   "execution_count": 18,
   "metadata": {
    "collapsed": true
   },
   "outputs": [],
   "source": [
    "from sqlalchemy.orm import sessionmaker"
   ]
  },
  {
   "cell_type": "code",
   "execution_count": 19,
   "metadata": {
    "collapsed": true
   },
   "outputs": [],
   "source": [
    "Session = sessionmaker(bind=engine)"
   ]
  },
  {
   "cell_type": "code",
   "execution_count": 20,
   "metadata": {
    "collapsed": true
   },
   "outputs": [],
   "source": [
    "Session = sessionmaker()"
   ]
  },
  {
   "cell_type": "code",
   "execution_count": 21,
   "metadata": {
    "collapsed": true
   },
   "outputs": [],
   "source": [
    "Session.configure(bind=engine) "
   ]
  },
  {
   "cell_type": "code",
   "execution_count": 22,
   "metadata": {
    "collapsed": true
   },
   "outputs": [],
   "source": [
    "session = Session()"
   ]
  },
  {
   "cell_type": "code",
   "execution_count": 23,
   "metadata": {
    "collapsed": true
   },
   "outputs": [],
   "source": [
    "session.add(ed_adult)"
   ]
  },
  {
   "cell_type": "code",
   "execution_count": 24,
   "metadata": {
    "collapsed": true
   },
   "outputs": [],
   "source": [
    "session.add_all([Adult(age= '46', workclass= 'state-gov', fnlwgt = '54653', education = 'Bachelors', education_num = '13', marital_status = 'married',\n",
    "                    occupation = 'Professor', relationship = 'Wife', race = 'White', sex =  'Female', capital_gain = '0', \n",
    "                 capital_loss = '0', hours_per_week = '40', native_country = 'United-States', classs_probability = '<=50K'),\n",
    "                Adult(age= '34', workclass= 'state-gov', fnlwgt = '45673', education = 'Bachelors', education_num = '13', marital_status = 'married',\n",
    "                    occupation = 'Engineer', relationship = 'Husband', race = 'White', sex =  'Male', capital_gain = '0', \n",
    "                 capital_loss = '0', hours_per_week = '40', native_country = 'United-States', classs_probability = '<=50K'),\n",
    "                Adult(age= '27', workclass= 'private', fnlwgt = '54376', education = 'Bachelors', education_num = '13', marital_status = 'married',\n",
    "                    occupation = 'IT-professional', relationship = 'Son', race = 'Brown', sex =  'Male', capital_gain = '0', \n",
    "                 capital_loss = '0', hours_per_week = '40', native_country = 'United-States', classs_probability = '<=50K')])"
   ]
  },
  {
   "cell_type": "code",
   "execution_count": 25,
   "metadata": {},
   "outputs": [
    {
     "data": {
      "text/plain": [
       "IdentitySet([<User(age='36', workclass='state-gov', fnlwgt='65643', education='Bachelors', education_num='13', marital_status='married', occupation='Prof-Speciality', relationship='Wife', race='White', sex='Female', capital_gain='0', capital_loss='0', hours_per_week='40', native_country='United-States', classs_probability='<=50K')>, <User(age='46', workclass='state-gov', fnlwgt='54653', education='Bachelors', education_num='13', marital_status='married', occupation='Professor', relationship='Wife', race='White', sex='Female', capital_gain='0', capital_loss='0', hours_per_week='40', native_country='United-States', classs_probability='<=50K')>, <User(age='34', workclass='state-gov', fnlwgt='45673', education='Bachelors', education_num='13', marital_status='married', occupation='Engineer', relationship='Husband', race='White', sex='Male', capital_gain='0', capital_loss='0', hours_per_week='40', native_country='United-States', classs_probability='<=50K')>, <User(age='27', workclass='private', fnlwgt='54376', education='Bachelors', education_num='13', marital_status='married', occupation='IT-professional', relationship='Son', race='Brown', sex='Male', capital_gain='0', capital_loss='0', hours_per_week='40', native_country='United-States', classs_probability='<=50K')>])"
      ]
     },
     "execution_count": 25,
     "metadata": {},
     "output_type": "execute_result"
    }
   ],
   "source": [
    "session.new"
   ]
  },
  {
   "cell_type": "code",
   "execution_count": 26,
   "metadata": {},
   "outputs": [
    {
     "name": "stdout",
     "output_type": "stream",
     "text": [
      "2018-04-22 08:29:52,372 INFO sqlalchemy.engine.base.Engine BEGIN (implicit)\n",
      "2018-04-22 08:29:52,382 INFO sqlalchemy.engine.base.Engine INSERT INTO adult_df (age, workclass, fnlwgt, education, education_num, marital_status, occupation, relationship, race, sex, capital_gain, capital_loss, hours_per_week, native_country, classs_probability) VALUES (?, ?, ?, ?, ?, ?, ?, ?, ?, ?, ?, ?, ?, ?, ?)\n",
      "2018-04-22 08:29:52,400 INFO sqlalchemy.engine.base.Engine (36, 'state-gov', '65643', 'Bachelors', '13', 'married', 'Prof-Speciality', 'Wife', 'White', 'Female', '0', '0', '40', 'United-States', '<=50K')\n",
      "2018-04-22 08:29:52,400 INFO sqlalchemy.engine.base.Engine INSERT INTO adult_df (age, workclass, fnlwgt, education, education_num, marital_status, occupation, relationship, race, sex, capital_gain, capital_loss, hours_per_week, native_country, classs_probability) VALUES (?, ?, ?, ?, ?, ?, ?, ?, ?, ?, ?, ?, ?, ?, ?)\n",
      "2018-04-22 08:29:52,400 INFO sqlalchemy.engine.base.Engine ('46', 'state-gov', '54653', 'Bachelors', '13', 'married', 'Professor', 'Wife', 'White', 'Female', '0', '0', '40', 'United-States', '<=50K')\n",
      "2018-04-22 08:29:52,415 INFO sqlalchemy.engine.base.Engine INSERT INTO adult_df (age, workclass, fnlwgt, education, education_num, marital_status, occupation, relationship, race, sex, capital_gain, capital_loss, hours_per_week, native_country, classs_probability) VALUES (?, ?, ?, ?, ?, ?, ?, ?, ?, ?, ?, ?, ?, ?, ?)\n",
      "2018-04-22 08:29:52,418 INFO sqlalchemy.engine.base.Engine ('34', 'state-gov', '45673', 'Bachelors', '13', 'married', 'Engineer', 'Husband', 'White', 'Male', '0', '0', '40', 'United-States', '<=50K')\n",
      "2018-04-22 08:29:52,422 INFO sqlalchemy.engine.base.Engine INSERT INTO adult_df (age, workclass, fnlwgt, education, education_num, marital_status, occupation, relationship, race, sex, capital_gain, capital_loss, hours_per_week, native_country, classs_probability) VALUES (?, ?, ?, ?, ?, ?, ?, ?, ?, ?, ?, ?, ?, ?, ?)\n",
      "2018-04-22 08:29:52,425 INFO sqlalchemy.engine.base.Engine ('27', 'private', '54376', 'Bachelors', '13', 'married', 'IT-professional', 'Son', 'Brown', 'Male', '0', '0', '40', 'United-States', '<=50K')\n",
      "2018-04-22 08:29:52,427 INFO sqlalchemy.engine.base.Engine COMMIT\n"
     ]
    }
   ],
   "source": [
    "session.commit()"
   ]
  },
  {
   "cell_type": "markdown",
   "metadata": {},
   "source": [
    "#### Write two basic update queries"
   ]
  },
  {
   "cell_type": "code",
   "execution_count": 31,
   "metadata": {},
   "outputs": [
    {
     "name": "stdout",
     "output_type": "stream",
     "text": [
      "2018-04-22 08:30:45,000 INFO sqlalchemy.engine.base.Engine UPDATE adult_df SET fnlwgt=? WHERE adult_df.age = ?\n",
      "2018-04-22 08:30:45,000 INFO sqlalchemy.engine.base.Engine ('77777', '36')\n"
     ]
    },
    {
     "data": {
      "text/plain": [
       "1"
      ]
     },
     "execution_count": 31,
     "metadata": {},
     "output_type": "execute_result"
    }
   ],
   "source": [
    "session.query(Adult).filter_by(age = '36').update({\"fnlwgt\": '77777'})\n"
   ]
  },
  {
   "cell_type": "code",
   "execution_count": 32,
   "metadata": {},
   "outputs": [
    {
     "name": "stdout",
     "output_type": "stream",
     "text": [
      "2018-04-22 08:30:50,947 INFO sqlalchemy.engine.base.Engine SELECT adult_df.id AS adult_df_id, adult_df.age AS adult_df_age, adult_df.workclass AS adult_df_workclass, adult_df.fnlwgt AS adult_df_fnlwgt, adult_df.education AS adult_df_education, adult_df.education_num AS adult_df_education_num, adult_df.marital_status AS adult_df_marital_status, adult_df.occupation AS adult_df_occupation, adult_df.relationship AS adult_df_relationship, adult_df.race AS adult_df_race, adult_df.sex AS adult_df_sex, adult_df.capital_gain AS adult_df_capital_gain, adult_df.capital_loss AS adult_df_capital_loss, adult_df.hours_per_week AS adult_df_hours_per_week, adult_df.native_country AS adult_df_native_country, adult_df.classs_probability AS adult_df_classs_probability \n",
      "FROM adult_df\n",
      "2018-04-22 08:30:50,947 INFO sqlalchemy.engine.base.Engine ()\n"
     ]
    },
    {
     "data": {
      "text/plain": [
       "[<User(age='36', workclass='state-gov', fnlwgt='77777', education='Bachelors', education_num='13', marital_status='married', occupation='Prof-Speciality', relationship='Wife', race='White', sex='Female', capital_gain='0', capital_loss='0', hours_per_week='40', native_country='United-States', classs_probability='<=50K')>,\n",
       " <User(age='46', workclass='state-gov', fnlwgt='54653', education='Bachelors', education_num='13', marital_status='married', occupation='Professor', relationship='Wife', race='White', sex='Female', capital_gain='0', capital_loss='0', hours_per_week='40', native_country='United-States', classs_probability='<=50K')>,\n",
       " <User(age='34', workclass='state-gov', fnlwgt='45673', education='Bachelors', education_num='13', marital_status='married', occupation='Engineer', relationship='Husband', race='White', sex='Male', capital_gain='0', capital_loss='0', hours_per_week='40', native_country='United-States', classs_probability='<=50K')>,\n",
       " <User(age='27', workclass='private', fnlwgt='54376', education='Bachelors', education_num='13', marital_status='married', occupation='IT-professional', relationship='Son', race='Brown', sex='Male', capital_gain='0', capital_loss='0', hours_per_week='40', native_country='United-States', classs_probability='<=50K')>]"
      ]
     },
     "execution_count": 32,
     "metadata": {},
     "output_type": "execute_result"
    }
   ],
   "source": [
    "session.query(Adult).all()"
   ]
  },
  {
   "cell_type": "code",
   "execution_count": 33,
   "metadata": {},
   "outputs": [
    {
     "name": "stdout",
     "output_type": "stream",
     "text": [
      "2018-04-22 08:32:04,971 INFO sqlalchemy.engine.base.Engine UPDATE adult_df SET education=? WHERE adult_df.age = ?\n",
      "2018-04-22 08:32:04,971 INFO sqlalchemy.engine.base.Engine ('Masters', '36')\n"
     ]
    },
    {
     "data": {
      "text/plain": [
       "1"
      ]
     },
     "execution_count": 33,
     "metadata": {},
     "output_type": "execute_result"
    }
   ],
   "source": [
    "session.query(Adult).filter_by(age = '36').update({\"education\": 'Masters'})\n"
   ]
  },
  {
   "cell_type": "code",
   "execution_count": 35,
   "metadata": {},
   "outputs": [
    {
     "name": "stdout",
     "output_type": "stream",
     "text": [
      "2018-04-22 08:32:58,765 INFO sqlalchemy.engine.base.Engine COMMIT\n"
     ]
    }
   ],
   "source": [
    "session.commit()"
   ]
  },
  {
   "cell_type": "code",
   "execution_count": 36,
   "metadata": {},
   "outputs": [
    {
     "name": "stdout",
     "output_type": "stream",
     "text": [
      "2018-04-22 08:33:05,063 INFO sqlalchemy.engine.base.Engine BEGIN (implicit)\n",
      "2018-04-22 08:33:05,063 INFO sqlalchemy.engine.base.Engine SELECT adult_df.id AS adult_df_id, adult_df.age AS adult_df_age, adult_df.workclass AS adult_df_workclass, adult_df.fnlwgt AS adult_df_fnlwgt, adult_df.education AS adult_df_education, adult_df.education_num AS adult_df_education_num, adult_df.marital_status AS adult_df_marital_status, adult_df.occupation AS adult_df_occupation, adult_df.relationship AS adult_df_relationship, adult_df.race AS adult_df_race, adult_df.sex AS adult_df_sex, adult_df.capital_gain AS adult_df_capital_gain, adult_df.capital_loss AS adult_df_capital_loss, adult_df.hours_per_week AS adult_df_hours_per_week, adult_df.native_country AS adult_df_native_country, adult_df.classs_probability AS adult_df_classs_probability \n",
      "FROM adult_df\n",
      "2018-04-22 08:33:05,074 INFO sqlalchemy.engine.base.Engine ()\n"
     ]
    },
    {
     "data": {
      "text/plain": [
       "[<User(age='36', workclass='state-gov', fnlwgt='77777', education='Masters', education_num='13', marital_status='married', occupation='Prof-Speciality', relationship='Wife', race='White', sex='Female', capital_gain='0', capital_loss='0', hours_per_week='40', native_country='United-States', classs_probability='<=50K')>,\n",
       " <User(age='46', workclass='state-gov', fnlwgt='54653', education='Bachelors', education_num='13', marital_status='married', occupation='Professor', relationship='Wife', race='White', sex='Female', capital_gain='0', capital_loss='0', hours_per_week='40', native_country='United-States', classs_probability='<=50K')>,\n",
       " <User(age='34', workclass='state-gov', fnlwgt='45673', education='Bachelors', education_num='13', marital_status='married', occupation='Engineer', relationship='Husband', race='White', sex='Male', capital_gain='0', capital_loss='0', hours_per_week='40', native_country='United-States', classs_probability='<=50K')>,\n",
       " <User(age='27', workclass='private', fnlwgt='54376', education='Bachelors', education_num='13', marital_status='married', occupation='IT-professional', relationship='Son', race='Brown', sex='Male', capital_gain='0', capital_loss='0', hours_per_week='40', native_country='United-States', classs_probability='<=50K')>]"
      ]
     },
     "execution_count": 36,
     "metadata": {},
     "output_type": "execute_result"
    }
   ],
   "source": [
    "session.query(Adult).all()"
   ]
  },
  {
   "cell_type": "markdown",
   "metadata": {},
   "source": [
    "#### Write two delete queries"
   ]
  },
  {
   "cell_type": "code",
   "execution_count": 163,
   "metadata": {
    "collapsed": true
   },
   "outputs": [],
   "source": [
    "from sqlalchemy import delete"
   ]
  },
  {
   "cell_type": "code",
   "execution_count": 287,
   "metadata": {},
   "outputs": [
    {
     "name": "stdout",
     "output_type": "stream",
     "text": [
      "2018-04-22 08:20:25,813 INFO sqlalchemy.engine.base.Engine DELETE FROM adult_df WHERE adult_df.age = ?\n",
      "2018-04-22 08:20:25,813 INFO sqlalchemy.engine.base.Engine ('34',)\n"
     ]
    },
    {
     "data": {
      "text/plain": [
       "2"
      ]
     },
     "execution_count": 287,
     "metadata": {},
     "output_type": "execute_result"
    }
   ],
   "source": [
    "session.query(Adult).filter_by(age = '27').delete()"
   ]
  },
  {
   "cell_type": "code",
   "execution_count": 288,
   "metadata": {},
   "outputs": [
    {
     "name": "stdout",
     "output_type": "stream",
     "text": [
      "2018-04-22 08:20:30,190 INFO sqlalchemy.engine.base.Engine DELETE FROM adult_df WHERE adult_df.age = ?\n",
      "2018-04-22 08:20:30,206 INFO sqlalchemy.engine.base.Engine ('46',)\n"
     ]
    },
    {
     "data": {
      "text/plain": [
       "2"
      ]
     },
     "execution_count": 288,
     "metadata": {},
     "output_type": "execute_result"
    }
   ],
   "source": [
    "session.query(Adult).filter_by(age='46').delete()"
   ]
  },
  {
   "cell_type": "code",
   "execution_count": 166,
   "metadata": {},
   "outputs": [
    {
     "name": "stdout",
     "output_type": "stream",
     "text": [
      "2018-04-21 11:29:23,105 INFO sqlalchemy.engine.base.Engine SELECT adult_df.id AS adult_df_id, adult_df.age AS adult_df_age, adult_df.workclass AS adult_df_workclass, adult_df.fnlwgt AS adult_df_fnlwgt, adult_df.education AS adult_df_education, adult_df.education_num AS adult_df_education_num, adult_df.marital_status AS adult_df_marital_status, adult_df.occupation AS adult_df_occupation, adult_df.relationship AS adult_df_relationship, adult_df.race AS adult_df_race, adult_df.sex AS adult_df_sex, adult_df.capital_gain AS adult_df_capital_gain, adult_df.capital_loss AS adult_df_capital_loss, adult_df.hours_per_week AS adult_df_hours_per_week, adult_df.native_country AS adult_df_native_country, adult_df.classs_probability AS adult_df_classs_probability \n",
      "FROM adult_df\n",
      "2018-04-21 11:29:23,108 INFO sqlalchemy.engine.base.Engine ()\n"
     ]
    },
    {
     "data": {
      "text/plain": [
       "[<User(age='36', workclass='state-gov', fnlwgt='77777', education='Masters', education_num='15', marital_status='married', occupation='Prof-Speciality', relationship='Wife', race='White', sex='Female', capital_gain='0', capital_loss='0', hours_per_week='40', native_country='United-States', classs_probability='<=50K')>,\n",
       " <User(age='34', workclass='state-gov', fnlwgt='45673', education='Bachelors', education_num='13', marital_status='married', occupation='Engineer', relationship='Husband', race='White', sex='Male', capital_gain='0', capital_loss='0', hours_per_week='40', native_country='United-States', classs_probability='<=50K')>]"
      ]
     },
     "execution_count": 166,
     "metadata": {},
     "output_type": "execute_result"
    }
   ],
   "source": [
    "session.query(Adult).all()"
   ]
  },
  {
   "cell_type": "markdown",
   "metadata": {},
   "source": [
    "#### Write two filter queries"
   ]
  },
  {
   "cell_type": "code",
   "execution_count": 167,
   "metadata": {},
   "outputs": [
    {
     "name": "stdout",
     "output_type": "stream",
     "text": [
      "2018-04-21 11:29:42,526 INFO sqlalchemy.engine.base.Engine SELECT adult_df.id AS adult_df_id, adult_df.age AS adult_df_age, adult_df.workclass AS adult_df_workclass, adult_df.fnlwgt AS adult_df_fnlwgt, adult_df.education AS adult_df_education, adult_df.education_num AS adult_df_education_num, adult_df.marital_status AS adult_df_marital_status, adult_df.occupation AS adult_df_occupation, adult_df.relationship AS adult_df_relationship, adult_df.race AS adult_df_race, adult_df.sex AS adult_df_sex, adult_df.capital_gain AS adult_df_capital_gain, adult_df.capital_loss AS adult_df_capital_loss, adult_df.hours_per_week AS adult_df_hours_per_week, adult_df.native_country AS adult_df_native_country, adult_df.classs_probability AS adult_df_classs_probability \n",
      "FROM adult_df \n",
      "WHERE adult_df.age = ?\n",
      " LIMIT ? OFFSET ?\n",
      "2018-04-21 11:29:42,529 INFO sqlalchemy.engine.base.Engine ('34', 1, 0)\n"
     ]
    },
    {
     "data": {
      "text/plain": [
       "<User(age='34', workclass='state-gov', fnlwgt='45673', education='Bachelors', education_num='13', marital_status='married', occupation='Engineer', relationship='Husband', race='White', sex='Male', capital_gain='0', capital_loss='0', hours_per_week='40', native_country='United-States', classs_probability='<=50K')>"
      ]
     },
     "execution_count": 167,
     "metadata": {},
     "output_type": "execute_result"
    }
   ],
   "source": [
    "session.query(Adult).filter_by(age='34').first() "
   ]
  },
  {
   "cell_type": "code",
   "execution_count": 168,
   "metadata": {},
   "outputs": [
    {
     "name": "stdout",
     "output_type": "stream",
     "text": [
      "2018-04-21 11:29:51,171 INFO sqlalchemy.engine.base.Engine SELECT adult_df.id AS adult_df_id, adult_df.age AS adult_df_age, adult_df.workclass AS adult_df_workclass, adult_df.fnlwgt AS adult_df_fnlwgt, adult_df.education AS adult_df_education, adult_df.education_num AS adult_df_education_num, adult_df.marital_status AS adult_df_marital_status, adult_df.occupation AS adult_df_occupation, adult_df.relationship AS adult_df_relationship, adult_df.race AS adult_df_race, adult_df.sex AS adult_df_sex, adult_df.capital_gain AS adult_df_capital_gain, adult_df.capital_loss AS adult_df_capital_loss, adult_df.hours_per_week AS adult_df_hours_per_week, adult_df.native_country AS adult_df_native_country, adult_df.classs_probability AS adult_df_classs_probability \n",
      "FROM adult_df \n",
      "WHERE adult_df.sex IN (?)\n",
      "2018-04-21 11:29:51,174 INFO sqlalchemy.engine.base.Engine ('Female',)\n"
     ]
    },
    {
     "data": {
      "text/plain": [
       "[<User(age='36', workclass='state-gov', fnlwgt='77777', education='Masters', education_num='15', marital_status='married', occupation='Prof-Speciality', relationship='Wife', race='White', sex='Female', capital_gain='0', capital_loss='0', hours_per_week='40', native_country='United-States', classs_probability='<=50K')>]"
      ]
     },
     "execution_count": 168,
     "metadata": {},
     "output_type": "execute_result"
    }
   ],
   "source": [
    "session.query(Adult).filter(Adult.sex.in_(['Female'])).all()"
   ]
  },
  {
   "cell_type": "markdown",
   "metadata": {},
   "source": [
    "#### Write two function queries"
   ]
  },
  {
   "cell_type": "code",
   "execution_count": 183,
   "metadata": {
    "collapsed": true
   },
   "outputs": [],
   "source": [
    "from sqlalchemy import func"
   ]
  },
  {
   "cell_type": "code",
   "execution_count": 184,
   "metadata": {},
   "outputs": [
    {
     "name": "stdout",
     "output_type": "stream",
     "text": [
      "2018-04-21 13:48:21,095 INFO sqlalchemy.engine.base.Engine SELECT count(adult_df.age) AS count_1, adult_df.age AS adult_df_age \n",
      "FROM adult_df GROUP BY adult_df.age\n",
      "2018-04-21 13:48:21,111 INFO sqlalchemy.engine.base.Engine ()\n"
     ]
    },
    {
     "data": {
      "text/plain": [
       "[(1, '34'), (1, '36')]"
      ]
     },
     "execution_count": 184,
     "metadata": {},
     "output_type": "execute_result"
    }
   ],
   "source": [
    "session.query(func.count(Adult.age), Adult.age).group_by(Adult.age).all()"
   ]
  },
  {
   "cell_type": "code",
   "execution_count": 185,
   "metadata": {},
   "outputs": [
    {
     "name": "stdout",
     "output_type": "stream",
     "text": [
      "2018-04-21 13:48:54,985 INFO sqlalchemy.engine.base.Engine SELECT count(?) AS count_1 \n",
      "FROM adult_df\n",
      "2018-04-21 13:48:54,989 INFO sqlalchemy.engine.base.Engine ('*',)\n"
     ]
    },
    {
     "data": {
      "text/plain": [
       "2"
      ]
     },
     "execution_count": 185,
     "metadata": {},
     "output_type": "execute_result"
    }
   ],
   "source": [
    "session.query(func.count('*')).select_from(Adult).scalar()"
   ]
  },
  {
   "cell_type": "code",
   "execution_count": 187,
   "metadata": {},
   "outputs": [
    {
     "name": "stdout",
     "output_type": "stream",
     "text": [
      "2018-04-21 13:49:18,073 INFO sqlalchemy.engine.base.Engine SELECT count(adult_df.age) AS count_1 \n",
      "FROM adult_df\n",
      "2018-04-21 13:49:18,077 INFO sqlalchemy.engine.base.Engine ()\n"
     ]
    },
    {
     "data": {
      "text/plain": [
       "2"
      ]
     },
     "execution_count": 187,
     "metadata": {},
     "output_type": "execute_result"
    }
   ],
   "source": [
    "session.query(func.count(Adult.age)).scalar()"
   ]
  }
 ],
 "metadata": {
  "kernelspec": {
   "display_name": "Python 3",
   "language": "python",
   "name": "python3"
  },
  "language_info": {
   "codemirror_mode": {
    "name": "ipython",
    "version": 3
   },
   "file_extension": ".py",
   "mimetype": "text/x-python",
   "name": "python",
   "nbconvert_exporter": "python",
   "pygments_lexer": "ipython3",
   "version": "3.6.3"
  }
 },
 "nbformat": 4,
 "nbformat_minor": 2
}
